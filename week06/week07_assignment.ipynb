{
  "cells": [
    {
      "cell_type": "markdown",
      "metadata": {
        "id": "7AD4rm2Cr2h3"
      },
      "source": [
        "# Week 7 Assignment\n",
        "\n",
        "We've been working with different types of data structures in Python (dictionary, list, etc), how those are represented in JSON documents, and how to write code to access specific data elements. In this week's assignment, you will need to create your own JSON document to store information about yourself and the grades you've received from week 1 to week 4 and the week 6 quiz.  That is, everything you should have received a grade for.  Then you'll need to show me you know how to navigate the JSON in that file.\n",
        "\n",
        "Different from what we've done in the past, you do not have to write any functions or include any docstrings.  Just create some JSON and write some code.\n",
        "\n",
        "---"
      ]
    },
    {
      "cell_type": "markdown",
      "metadata": {
        "id": "ElpdzW37r2h6"
      },
      "source": [
        "## 7.1 Create a JSON file\n",
        "\n",
        "Create a JSON file that contains your name, email, year you were born, all of the grades you've received back so far, and a comment about what you thought was most challenging on each of those assignments.  This can be any structure you choose, but make sure it uses a dictionary and a list, and has at least two levels of hierarchy.  That is, it can't just be one big long list."
      ]
    },
    {
      "cell_type": "markdown",
      "metadata": {
        "id": "O1qCUERMr2h6"
      },
      "source": [
        "First, explain how your data structure is going to look..."
      ]
    },
    {
      "cell_type": "markdown",
      "metadata": {
        "id": "ybK2MXBMr2h7"
      },
      "source": [
        "* Put your explanation here in text..."
      ]
    },
    {
      "cell_type": "markdown",
      "metadata": {
        "id": "5t6bnAcJr2h7"
      },
      "source": [
        "Then put the actual JSON you've created inside the multiline string below..."
      ]
    },
    {
      "cell_type": "code",
      "execution_count": 5,
      "metadata": {
        "id": "dFngRKDrr2h8"
      },
      "outputs": [],
      "source": [
        "hds5210 = \"\"\"\n",
        "{\n",
        "    \"personal_info\": {\n",
        "        \"name\": \"Vineel Reddy\",\n",
        "        \"email\": \"vineelreddy.chittedi@slu.edu\",\n",
        "        \"year_of_birth\": 1999\n",
        "    },\n",
        "    \"grades\": {\n",
        "        \"week_2\": {\n",
        "            \"grades\": [4],\n",
        "            \"comment\": \"Programming is very new to me and it's bit comfusing.\"\n",
        "        },\n",
        "        \"week_3\": {\n",
        "            \"grades\": [6],\n",
        "            \"comment\": \"Understanding the concepts was difficult.\"\n",
        "        },\n",
        "        \"week_4\": {\n",
        "            \"grades\": [10],\n",
        "            \"comment\": \"I am improved and getting into the subject.\"\n",
        "        }\n",
        "    }\n",
        "}\n",
        "\"\"\""
      ]
    },
    {
      "cell_type": "markdown",
      "metadata": {
        "id": "KZE9e5Qmr2h8"
      },
      "source": [
        "## 7.2 Do something with your JSON\n",
        "\n",
        "Now use Python code to do something with the Json above.  Turn it into English text, but make sure that you use at least one loop to access some dict or list content of your JSON.  Below, I've provided some basic code to read in the string above as JSON and return a Python object.  Your job is to work with that data structure and print out the important information like your name, email, and how you did on each assignment."
      ]
    },
    {
      "cell_type": "code",
      "execution_count": 6,
      "metadata": {
        "id": "ayP3bycPr2h9",
        "outputId": "605b5292-500e-4cf5-8bf6-b9b4922a8e0a",
        "colab": {
          "base_uri": "https://localhost:8080/"
        }
      },
      "outputs": [
        {
          "output_type": "stream",
          "name": "stdout",
          "text": [
            "Hi, my name is Vineel Reddy. You can contact me at vineelreddy.chittedi@slu.edu. I was born in 1999.\n",
            "\n",
            "Here’s what I achieved in my recent assignments:\n",
            "In week 2, I received a score of 4. Comment: Programming is very new to me and it's bit comfusing.\n",
            "In week 3, I received a score of 6. Comment: Understanding the concepts was difficult.\n",
            "In week 4, I received a score of 10. Comment: I am improved and getting into the subject.\n"
          ]
        }
      ],
      "source": [
        "import json\n",
        "info = json.loads(hds5210)\n",
        "\n",
        "name = info[\"personal_info\"][\"name\"]  # \"Vineel Reddy\"\n",
        "email = info[\"personal_info\"][\"email\"]  # \"vineelreddy.chittedi@slu.edu\"\n",
        "year_of_birth = info[\"personal_info\"][\"year_of_birth\"]  # 1999\n",
        "\n",
        "grade_summary = []\n",
        "for week, details in info[\"grades\"].items():\n",
        "    grade = details[\"grades\"][0]\n",
        "    comment = details[\"comment\"]\n",
        "    grade_summary.append(f\"In {week.replace('_', ' ')}, I received a score of {grade}. Comment: {comment}\")\n",
        "\n",
        "print(f\"Hi, my name is {name}. You can contact me at {email}. I was born in {year_of_birth}.\")\n",
        "print(\"\\nHere’s what I achieved in my recent assignments:\")\n",
        "for line in grade_summary:\n",
        "    print(line)\n",
        "\n"
      ]
    },
    {
      "cell_type": "markdown",
      "metadata": {
        "id": "NNrWlMSQr2h9"
      },
      "source": [
        "## 7.3 Reflect\n",
        "\n",
        "Write a paragraph on any reflections you have. Was this hard? Easy?  What parts were most challenging or easiest? What did you like or dislike about the assignment?  Share whatever important thoughts you have abou this assignment."
      ]
    },
    {
      "cell_type": "markdown",
      "source": [
        "Creating the JSON structure was an interesting task, and I enjoyed the opportunity to organize my personal details and grades in a structured format. Navigating through the JSON data in Python was a bit challenging. Programming is very new to me, and I found some parts confusing, especially when trying to extract specific details. However, as I worked through the coding, I felt my understanding improve, which was encouraging. Overall, I enjoying the classes and assignment and recognized the importance of data structures in programming. Its rewarding to see how I can represent my academic progress through Programming."
      ],
      "metadata": {
        "id": "QlbVQqC6x-dd"
      }
    },
    {
      "cell_type": "markdown",
      "metadata": {
        "id": "wmvL6JLmr2h-"
      },
      "source": [
        "---\n",
        "\n",
        "# Example\n",
        "\n",
        "Below is an example of something similar, but this uses information my and my friend's kids instead of grades."
      ]
    },
    {
      "cell_type": "code",
      "execution_count": null,
      "metadata": {
        "id": "GglnmAler2h-",
        "outputId": "8e174840-0b50-44fc-968e-0666609e7488"
      },
      "outputs": [
        {
          "name": "stdout",
          "output_type": "stream",
          "text": [
            "Hi, my name is Paul. I've got 3 kids. Their names are Ellie, Ada, Teddy.\n",
            "My friend, Anny has 1 kids. That's fewer than me. Their names are 1\n"
          ]
        }
      ],
      "source": [
        "hds5210 = \"\"\"\n",
        "{\n",
        "    \"me\": {\n",
        "        \"name\": \"Paul\",\n",
        "        \"kids\": [\"Ellie\", \"Ada\", \"Teddy\"]\n",
        "    },\n",
        "    \"friend\": {\n",
        "        \"name\": \"Anny\",\n",
        "        \"kids\": [\"Abby\"]\n",
        "    }\n",
        "}\n",
        "\"\"\"\n",
        "\n",
        "import json\n",
        "\n",
        "info = json.loads(hds5210)\n",
        "\n",
        "me = info[\"me\"][\"name\"]\n",
        "my_kids_count = len(info[\"me\"][\"kids\"])\n",
        "kids_list = \", \".join(info[\"me\"][\"kids\"])\n",
        "friend = info[\"friend\"][\"name\"]\n",
        "friends_kid_count = len(info[\"friend\"][\"kids\"])\n",
        "friend_kids = \", \".join(info[\"friend\"][\"kids\"])\n",
        "compare = \"more\" if friends_kid_count > my_kids_count else \"fewer\"\n",
        "\n",
        "print(f\"Hi, my name is {me}. I've got {my_kids_count} kids. Their names are {kids_list}.\")\n",
        "print(f\"My friend, {friend} has {friends_kid_count} kids. That's {compare} than me. Their names are {friends_kid_count}\")"
      ]
    }
  ],
  "metadata": {
    "kernelspec": {
      "display_name": "Python 3",
      "language": "python",
      "name": "python3"
    },
    "language_info": {
      "codemirror_mode": {
        "name": "ipython",
        "version": 3
      },
      "file_extension": ".py",
      "mimetype": "text/x-python",
      "name": "python",
      "nbconvert_exporter": "python",
      "pygments_lexer": "ipython3",
      "version": "3.9.16"
    },
    "colab": {
      "provenance": []
    }
  },
  "nbformat": 4,
  "nbformat_minor": 0
}