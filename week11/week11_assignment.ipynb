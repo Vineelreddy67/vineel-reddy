{
  "cells": [
    {
      "cell_type": "markdown",
      "metadata": {
        "id": "xjngR-PHJRXn"
      },
      "source": [
        "# Week 11 Assignment\n",
        "\n",
        "\n",
        "Please do the programming exercise and verify that your code works using the tests, then think about your final project and fill out the questions in the second part.\n",
        "\n",
        "---\n",
        "---"
      ]
    },
    {
      "cell_type": "markdown",
      "metadata": {
        "id": "ikH5r2-lJRXp"
      },
      "source": [
        "### 47.1: Filtering and summarizing data\n",
        "\n",
        "For this work, you'll find a data file in `/data/complications_all.csv`.\n",
        "\n",
        "Read in the data file and create a variable called `mo_hospitals` that contains a data frame from the `complications_all.csv` file, filtered down to only contain those hospitals from the state of Missouri (MO).\n",
        "\n",
        "Then aggregate that data by hospital into a variable named `mo_summary`.  There are some key fields that we want to summarize:\n",
        "* We want to know the earliest date that each hospital was participating in any program\n",
        "* We want to know the latest date that each hospital stopped participating in any program\n",
        "* We want to know the total number of patients in the denominators of these programs\n",
        "\n",
        "Some things to note:\n",
        "* You will need to convert the `Start Date` and `End Date` to actual datetime fields\n",
        "* You will need to clean up and convert the `Denominator` field to just be numeric - the rule that you should use it to simply remove any records where the `Denominator` is `'Not Available'`\n",
        "\n",
        "\n",
        "The final result of this step should be a new data frame called `mo_summary` that contains one row for each hospital and contains the min start date, max end date, and total denominator.  Use the names `start_date`, `end_date`, and `number` for those columns in `mo_summary`.\n",
        "\n",
        "\n",
        "You do not need to create your code in the form of a function, just make sure your variable names match what I've described above so the tests work."
      ]
    },
    {
      "cell_type": "code",
      "execution_count": 25,
      "metadata": {
        "id": "jmJ1BBWOJRXr"
      },
      "outputs": [],
      "source": [
        "import pandas as pd\n",
        "# This is just to show you the name to use for the variable you need to create for this step to pass.\n",
        "all_hospitals = pd.read_csv('https://hds5210-data.s3.amazonaws.com/complications_all.csv')\n"
      ]
    },
    {
      "cell_type": "code",
      "source": [
        "from datetime import datetime\n",
        "\n",
        "date_parse_format = lambda x: datetime.strptime(x, '%m/%d/%Y')\n",
        "\n",
        "hospitals = pd.read_csv('complications_all.csv', parse_dates=['Start Date', 'End Date'], date_parser=date_parse_format)\n",
        "mo_hospitals = hospitals[hospitals.State == 'MO']"
      ],
      "metadata": {
        "id": "yuyi9L-hKvjy"
      },
      "execution_count": null,
      "outputs": []
    },
    {
      "cell_type": "code",
      "source": [
        "mo_summary = pd.DataFrame()\n",
        "\n",
        "mo_summary['start_date'] = mo_hospitals.groupby('Facility Name')['Start Date'].min()\n",
        "mo_summary['end_date'] = mo_hospitals.groupby('Facility Name')['End Date'].max()\n",
        "\n",
        "mo_na_removed = mo_hospitals[mo_hospitals.Denominator != 'Not Available'].astype({'Denominator': int})\n",
        "mo_summary['number'] = \\\n",
        "mo_na_removed[mo_na_removed['Facility Name'].isin(list(mo_summary.index))].groupby('Facility Name')['Denominator'].sum()\n",
        "mo_summary = mo_summary.dropna()"
      ],
      "metadata": {
        "id": "IA5E3k5WMMBK"
      },
      "execution_count": 27,
      "outputs": []
    },
    {
      "cell_type": "code",
      "execution_count": 28,
      "metadata": {
        "id": "mkihJVOBJRXt"
      },
      "outputs": [],
      "source": [
        "assert(mo_summary['number'].sum() == 1766908)\n",
        "assert(mo_summary['start_date'].min() == pd.Timestamp(2015,4,1))\n",
        "assert(mo_summary['end_date'].max() == pd.Timestamp(2018,6,30))\n",
        "assert(mo_summary.shape == (108,3))\n",
        "assert(mo_summary.loc['BARNES JEWISH HOSPITAL'].number == 131313)\n",
        "assert(mo_summary.loc['BOONE HOSPITAL CENTER'].number == 63099)"
      ]
    },
    {
      "cell_type": "markdown",
      "metadata": {
        "id": "fi9h2P5vJRXt"
      },
      "source": [
        "---\n",
        "\n",
        "### 47.2 Planning your final project\n",
        "\n",
        "You should be thinking about the things we've been learning and how you can apply them to your final project.  Use the rubric to help guid your thinking and then answer the questions below.  This is meant as a guide to help you think through what you will do."
      ]
    },
    {
      "cell_type": "markdown",
      "metadata": {
        "id": "YYOyBIXIJRXu"
      },
      "source": [
        "#### A) Data Access\n",
        "\n",
        "Your project should include data from at least three distinct types of sources.  For example: AWS S3, Relational Databases, Internet, Web Services, local files.  List what data sources you're planning to use."
      ]
    },
    {
      "cell_type": "markdown",
      "metadata": {
        "id": "8GaQoEm1JRXu"
      },
      "source": [
        "kaggle and data.gov are the data sources that I'm planning to use for my project\n"
      ]
    },
    {
      "cell_type": "markdown",
      "metadata": {
        "id": "RPogY-35JRXv"
      },
      "source": [
        "#### B. Data Formats\n",
        "\n",
        "Your project should include data that comes in different file formats.  For example: HL7, EDI, HTML, CSV, Excel, JSON, XML.  List what data formats you're planning to use."
      ]
    },
    {
      "cell_type": "markdown",
      "metadata": {
        "id": "wvi-WEGNJRXv"
      },
      "source": [
        "I'm Planning to use csv and excel data formats\n"
      ]
    },
    {
      "cell_type": "markdown",
      "metadata": {
        "id": "za7mLS2MJRXv"
      },
      "source": [
        "#### C. Objective\n",
        "\n",
        "What purpose would your project serve in a real work setting?  Take a couple of paragraphs to write down why this is an interesting product."
      ]
    },
    {
      "cell_type": "markdown",
      "metadata": {
        "id": "VYCU6qn-JRXw"
      },
      "source": [
        "My research aims to investigate the relationship between diabetes and maternal health issues in pregnant ladies. Pregnancy complications can be prevented by educating women about common pregnancy problems and ensuring they receive health care both before and during pregnancy. Because the health of the mother, the child, or both may be affected by problems. Some women have prenatal health issues that could cause complications, while others have health issues that develop during pregnancy.\n",
        "\n",
        "Every year, over 50,000 women in the US suffer from the most serious pregnancy consequences, commonly known as severe maternal morbidity (SMM). This cost has been rising substantially in recent years. Increases in SMM are probably caused by a number of variables,\n",
        "Therfore, my research will help in managing diabetes during pregnancy and thus help women to have a healthy pregnancies and healthy babies."
      ]
    },
    {
      "cell_type": "markdown",
      "metadata": {
        "id": "1Uy4iJjOJRXw"
      },
      "source": [
        "\n",
        "\n",
        "---\n",
        "\n",
        "\n",
        "\n",
        "## Submit your work via GitHub as normal\n"
      ]
    }
  ],
  "metadata": {
    "kernelspec": {
      "display_name": "Python 3",
      "language": "python",
      "name": "python3"
    },
    "language_info": {
      "codemirror_mode": {
        "name": "ipython",
        "version": 3
      },
      "file_extension": ".py",
      "mimetype": "text/x-python",
      "name": "python",
      "nbconvert_exporter": "python",
      "pygments_lexer": "ipython3",
      "version": "3.9.16"
    },
    "colab": {
      "provenance": []
    }
  },
  "nbformat": 4,
  "nbformat_minor": 0
}