{
  "cells": [
    {
      "cell_type": "markdown",
      "metadata": {
        "id": "view-in-github",
        "colab_type": "text"
      },
      "source": [
        "<a href=\"https://colab.research.google.com/github/Vineelreddy67/vineel-reddy/blob/main/midterm/midterm.ipynb\" target=\"_parent\"><img src=\"https://colab.research.google.com/assets/colab-badge.svg\" alt=\"Open In Colab\"/></a>"
      ]
    },
    {
      "cell_type": "markdown",
      "metadata": {
        "id": "qrcL2Cchx6MV"
      },
      "source": [
        "### Mid-term for HDS5210\n",
        "\n",
        "Your supervisor is concerned about 4-year survival risks for COPD. She has asked for you to do some analysis using a new metric, BODE. BODE is an improvement on a previous metric and promises to provide insight on survival risks.\n",
        "\n",
        "BODE is defined here. https://www.mdcalc.com/calc/3916/bode-index-copd-survival#evidence\n",
        "\n",
        "Your assignment is to create a BODE calculation, use it to calculate BODE scores and BODE survival rates for a group of patients. Then we want to evaluate the average BODE scores and BODE survival rates for each area hospital.\n",
        "\n",
        "Your patient input file will have the following columns:\n",
        "NAME,SSN,LANGUAGE,JOB,HEIGHT_M,WEIGHT_KG,fev_pct,dyspnea_description,distance_in_meters,hospital\n",
        "\n",
        "BODE calculations require a BMI value, so you will have to create a function for it.\n",
        "\n",
        "Your output should be in the form of two CSV files, patient_output.csv and hospital_output.csv.\n",
        "\n",
        "Patient_output will have the following columns:\n",
        "NAME,BODE_SCORE,BODE_RISK,HOSPITAL\n",
        "\n",
        "Hospital output will have the following columns:\n",
        "HOSPITAL_NAME, COPD_COUNT, PCT_OF_COPD_CASES_OVER_BEDS, AVG_SCORE, AVG_RISK\n",
        "\n",
        "Each function you create should have documentation and a suitable number of test cases. If the input data could be wrong, make sure to raise a Value Error.\n",
        "\n",
        "For this assignment, use the doctest, json, and csv libraries. Pandas is not allowed for this assignment."
      ]
    },
    {
      "cell_type": "code",
      "execution_count": 22,
      "metadata": {
        "id": "pFtOv1vvx6MX"
      },
      "outputs": [],
      "source": [
        "import doctest\n",
        "import json\n",
        "import csv"
      ]
    },
    {
      "cell_type": "markdown",
      "metadata": {
        "id": "i_YCcCJJx6MY"
      },
      "source": [
        "### Step 1: Calculate BMI"
      ]
    },
    {
      "cell_type": "code",
      "execution_count": 23,
      "metadata": {
        "id": "CVUmlHOqx6MZ"
      },
      "outputs": [],
      "source": [
        "def calculate_bmi(weight_kg, height_m):\n",
        "    \"\"\"\n",
        "    Calculate Body Mass Index (BMI).\n",
        "\n",
        "    Parameters:\n",
        "    weight_kg (float): Weight in kilograms.\n",
        "    height_m (float): Height in meters.\n",
        "\n",
        "    Returns:\n",
        "    float: The BMI value.\n",
        "\n",
        "    Raises:\n",
        "    ValueError: If weight or height is not a positive number.\n",
        "\n",
        "    Example:\n",
        "    >>> calculate_bmi(70, 1.75)\n",
        "    22.86\n",
        "\n",
        "    >>> calculate_bmi(90, 1.80)\n",
        "    27.78\n",
        "\n",
        "    >>> calculate_bmi(0, 1.75)\n",
        "    Traceback (most recent call last):\n",
        "        ...\n",
        "    ValueError: Weight and height must be positive values.\n",
        "\n",
        "    >>> calculate_bmi(70, 0)\n",
        "    Traceback (most recent call last):\n",
        "        ...\n",
        "    ValueError: Weight and height must be positive values.\n",
        "    \"\"\"\n",
        "    if weight_kg <= 0 or height_m <= 0:\n",
        "        raise ValueError(\"Weight and height must be positive values.\")\n",
        "\n",
        "    return round(weight_kg / (height_m ** 2), 2)\n",
        "\n",
        "if __name__ == \"__main__\":\n",
        "    import doctest\n",
        "    doctest.testmod()\n"
      ]
    },
    {
      "cell_type": "markdown",
      "metadata": {
        "id": "-urPDJa-x6MZ"
      },
      "source": [
        "### Step 2: Calculate BODE Score"
      ]
    },
    {
      "cell_type": "code",
      "execution_count": 24,
      "metadata": {
        "id": "vHN-ISKpx6MZ"
      },
      "outputs": [],
      "source": [
        "def dyspnea_score(dyspnea_level):\n",
        "    \"\"\"Calculate dyspnea score based on level of breathlessness.\"\"\"\n",
        "    if dyspnea_level == \"no problem walking\":\n",
        "        return 0\n",
        "    elif dyspnea_level == \"breathless while walking\":\n",
        "        return 1\n",
        "    elif dyspnea_level == \"unable to walk\":\n",
        "        return 2\n",
        "    else:\n",
        "        return 3  # This is an example for more severe dyspnea\n",
        "\n",
        "def calculate_bode_score(age, dyspnea_level, fev1, height, weight):\n",
        "    \"\"\"Calculate the BODE score.\"\"\"\n",
        "    # Calculate dyspnea score\n",
        "    d_score = dyspnea_score(dyspnea_level)\n",
        "\n",
        "    # Calculate age score (example thresholds)\n",
        "    if age < 65:\n",
        "        a_score = 0\n",
        "    elif age <= 74:\n",
        "        a_score = 1\n",
        "    else:\n",
        "        a_score = 2\n",
        "\n",
        "    # Calculate FEV1 score (example thresholds)\n",
        "    if fev1 > 65:\n",
        "        f_score = 0\n",
        "    elif fev1 > 50:\n",
        "        f_score = 1\n",
        "    else:\n",
        "        f_score = 2\n",
        "\n",
        "    # Calculate BMI (Body Mass Index) score (example thresholds)\n",
        "    bmi = weight / (height ** 2)\n",
        "    if bmi < 25:\n",
        "        b_score = 0\n",
        "    elif bmi <= 30:\n",
        "        b_score = 1\n",
        "    else:\n",
        "        b_score = 2\n",
        "\n",
        "    # Total BODE score\n",
        "    total_score = a_score + d_score + f_score + b_score\n",
        "    return total_score\n"
      ]
    },
    {
      "cell_type": "markdown",
      "metadata": {
        "id": "3oEH4tN8x6MZ"
      },
      "source": [
        "### Step 3: Calculate BODE Risk"
      ]
    },
    {
      "cell_type": "code",
      "execution_count": 25,
      "metadata": {
        "id": "cFbf-1pLx6Ma"
      },
      "outputs": [],
      "source": [
        "def calculate_bode_risk(bode_score):\n",
        "    \"\"\"\n",
        "    Determine the risk level based on the BODE score.\n",
        "\n",
        "    Parameters:\n",
        "    bode_score (int): The BODE score.\n",
        "\n",
        "    Returns:\n",
        "    str: The corresponding risk level.\n",
        "\n",
        "    Example:\n",
        "    >>> calculate_bode_risk(2)\n",
        "    'Low Risk'\n",
        "    >>> calculate_bode_risk(4)\n",
        "    'Moderate Risk'\n",
        "    >>> calculate_bode_risk(8)\n",
        "    'High Risk'\n",
        "    \"\"\"\n",
        "    if bode_score <= 2:\n",
        "        return 'Low Risk'\n",
        "    elif bode_score <= 5:\n",
        "        return 'Moderate Risk'\n",
        "    else:\n",
        "        return 'High Risk'\n"
      ]
    },
    {
      "cell_type": "markdown",
      "metadata": {
        "id": "0cHnEGqzx6Ma"
      },
      "source": [
        "### Step 4: Load Hospital Data"
      ]
    },
    {
      "cell_type": "code",
      "execution_count": 26,
      "metadata": {
        "id": "AAaVoKsox6Ma"
      },
      "outputs": [],
      "source": [
        "def load_hospital_data(file_path):\n",
        "    \"\"\"\n",
        "    Load hospital data from a JSON file.\n",
        "\n",
        "    Parameters:\n",
        "    file_path (str): Path to the JSON file.\n",
        "\n",
        "    Returns:\n",
        "    dict: Parsed hospital data.\n",
        "\n",
        "    Example:\n",
        "    # Assuming a file path of 'hospitals.json' with correct structure\n",
        "    \"\"\"\n",
        "    with open(file_path, 'r') as f:\n",
        "        return json.load(f)\n"
      ]
    },
    {
      "cell_type": "markdown",
      "metadata": {
        "id": "DPBuq323x6Ma"
      },
      "source": [
        "### Step 5: Main business logic\n",
        "\n",
        "Call BODE Score, BODE Risk functions for each patient.\n",
        "\n",
        "For each hospital, calculate Avg BODE score and Avg BODE risk and count the number of cases for each hospital."
      ]
    },
    {
      "cell_type": "code",
      "execution_count": 27,
      "metadata": {
        "id": "qdIAfsCOx6Mb"
      },
      "outputs": [],
      "source": [
        "patient_csv = \"patient.csv\"\n",
        "hospital_json = \"hospitals.json\"\n",
        "\n",
        "patient_output_file = \"patient_output.csv\"\n",
        "hospital_output_file = \"hospital_output.csv\"\n",
        "\n",
        "###Begin Solution\n",
        "def process_patients(patient_csv, hospital_json, patient_output_file, hospital_output_file):\n",
        "    \"\"\"\n",
        "    Process patient data, calculate BODE score and risk, and update hospital statistics.\n",
        "\n",
        "    Parameters:\n",
        "    patient_csv (str): Path to the patient CSV file.\n",
        "    hospital_json (str): Path to the hospital JSON file.\n",
        "    patient_output_file (str): Output file for patient data.\n",
        "    hospital_output_file (str): Output file for hospital data.\n",
        "\n",
        "    Example:\n",
        "    >>> process_patients('patient.csv', 'hospitals.json', 'patient_output.csv', 'hospital_output.csv')\n",
        "    \"\"\"\n",
        "\n",
        "    # Load hospital data\n",
        "    with open(hospital_json, 'r') as f:\n",
        "        hospitals = json.load(f)\n",
        "\n",
        "    # Initialize hospital stats\n",
        "    hospital_stats = {}\n",
        "    for system in hospitals:\n",
        "        for hospital in system['hospitals']:\n",
        "            hospital_stats[hospital['name']] = {'count': 0, 'total_score': 0, 'beds': hospital['beds']}\n",
        "\n",
        "    patient_results = []\n",
        "\n",
        "    # Load patient data\n",
        "    with open(patient_csv, newline='') as csvfile:\n",
        "        reader = csv.DictReader(csvfile)\n",
        "\n",
        "        for row in reader:\n",
        "            try:\n",
        "                height = float(row['HEIGHT_M'])\n",
        "                weight = float(row['WEIGHT_KG'])\n",
        "                fev_pct = float(row['fev_pct'])\n",
        "                dyspnea_description = row['dyspnea_description']\n",
        "                distance = float(row['distance_in_meters'])\n",
        "                hospital_name = row['hospital'].strip()\n",
        "\n",
        "                # Calculate BODE score and risk\n",
        "                bode_score = calculate_bode_score(fev_pct, dyspnea_description, distance, height, weight)\n",
        "                bode_risk = calculate_bode_risk(bode_score)\n",
        "\n",
        "                # Append results for each patient\n",
        "                patient_results.append([row['NAME'], bode_score, bode_risk, hospital_name])\n",
        "\n",
        "                # Update hospital statistics\n",
        "                if hospital_name in hospital_stats:\n",
        "                    hospital_stats[hospital_name]['count'] += 1\n",
        "                    hospital_stats[hospital_name]['total_score'] += bode_score\n",
        "\n",
        "            except ValueError as e:\n",
        "                print(f\"Error processing {row['NAME']}: {e}\")\n",
        "\n",
        "    # Write patient_output.csv\n",
        "    with open(patient_output_file, 'w', newline='') as csvfile:\n",
        "        writer = csv.writer(csvfile)\n",
        "        writer.writerow(['NAME', 'BODE_SCORE', 'BODE_RISK', 'HOSPITAL'])\n",
        "        writer.writerows(patient_results)\n",
        "\n",
        "    # Calculate hospital statistics\n",
        "    hospital_output_list = []\n",
        "    for hospital_name, stats in hospital_stats.items():\n",
        "        if stats['count'] > 0:\n",
        "            avg_score = stats['total_score'] / stats['count']\n",
        "            pct_of_copd_cases = (stats['count'] / stats['beds']) * 100\n",
        "            hospital_output_list.append([hospital_name, stats['count'], pct_of_copd_cases, avg_score])\n",
        "\n",
        "    # Write hospital_output.csv\n",
        "    with open(hospital_output_file, 'w', newline='') as csvfile:\n",
        "        writer = csv.writer(csvfile)\n",
        "        writer.writerow(['HOSPITAL_NAME', 'COPD_COUNT', 'PCT_OF_COPD_CASES_OVER_BEDS', 'AVG_SCORE'])\n",
        "        writer.writerows(hospital_output_list)\n",
        "\n",
        "# Example usage with provided input file names\n",
        "patient_csv = \"patient.csv\"\n",
        "hospital_json = \"hospitals.json\"\n",
        "patient_output_file = \"patient_output.csv\"\n",
        "hospital_output_file = \"hospital_output.csv\"\n",
        "\n",
        "process_patients(patient_csv, hospital_json, patient_output_file, hospital_output_file)\n",
        "\n",
        "###End solution\n",
        "patient_results = []\n",
        "hospital_output_list = []\n"
      ]
    }
  ],
  "metadata": {
    "language_info": {
      "name": "python"
    },
    "colab": {
      "provenance": [],
      "include_colab_link": true
    },
    "kernelspec": {
      "name": "python3",
      "display_name": "Python 3"
    }
  },
  "nbformat": 4,
  "nbformat_minor": 0
}