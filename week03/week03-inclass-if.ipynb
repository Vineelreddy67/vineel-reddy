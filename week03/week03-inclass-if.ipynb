{
  "cells": [
    {
      "cell_type": "markdown",
      "metadata": {
        "id": "view-in-github",
        "colab_type": "text"
      },
      "source": [
        "<a href=\"https://colab.research.google.com/github/Vineelreddy67/vineel-reddy/blob/main/week03/week03-inclass-if.ipynb\" target=\"_parent\"><img src=\"https://colab.research.google.com/assets/colab-badge.svg\" alt=\"Open In Colab\"/></a>"
      ]
    },
    {
      "cell_type": "code",
      "execution_count": 10,
      "metadata": {
        "id": "cSba-lze4LyV"
      },
      "outputs": [],
      "source": [
        "def age_gender_label(age, gender) :\n",
        "    #Write a set of if conditions either sequential or inline to properly label people according to age and gender\n",
        "    return None"
      ]
    },
    {
      "cell_type": "code",
      "execution_count": 12,
      "metadata": {
        "id": "uY5Jti2G4LyW"
      },
      "outputs": [],
      "source": [
        "\n",
        "def age_gender_label(age, gender):\n",
        "    # Write a set of if conditions either sequential or inline to properly label people according to age and gender\n",
        "    if age < 18:\n",
        "        if gender == \"Male\":\n",
        "            return \"boy\"\n",
        "        elif gender == \"Female\":\n",
        "            return \"girl\"\n",
        "        else:\n",
        "            return \"child\"\n",
        "    else:\n",
        "        if gender == \"Male\":\n",
        "            return \"man\"\n",
        "        elif gender == \"Female\":\n",
        "            return \"woman\"\n",
        "        else:\n",
        "            return \"adult\"\n"
      ]
    },
    {
      "cell_type": "code",
      "execution_count": null,
      "metadata": {
        "id": "8BpzmaoY4LyW"
      },
      "outputs": [],
      "source": [
        "# Are there any other tests that you think we should run? Create your own tests below"
      ]
    }
  ],
  "metadata": {
    "language_info": {
      "name": "python"
    },
    "colab": {
      "provenance": [],
      "toc_visible": true,
      "include_colab_link": true
    },
    "kernelspec": {
      "name": "python3",
      "display_name": "Python 3"
    }
  },
  "nbformat": 4,
  "nbformat_minor": 0
}